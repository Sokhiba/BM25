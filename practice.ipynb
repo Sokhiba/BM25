{
  "nbformat": 4,
  "nbformat_minor": 0,
  "metadata": {
    "colab": {
      "provenance": [],
      "authorship_tag": "ABX9TyM8GwSrr5KClUUiWazzSsca",
      "include_colab_link": true
    },
    "kernelspec": {
      "name": "python3",
      "display_name": "Python 3"
    },
    "language_info": {
      "name": "python"
    }
  },
  "cells": [
    {
      "cell_type": "markdown",
      "metadata": {
        "id": "view-in-github",
        "colab_type": "text"
      },
      "source": [
        "<a href=\"https://colab.research.google.com/github/Sokhiba/BM25/blob/main/practice.ipynb\" target=\"_parent\"><img src=\"https://colab.research.google.com/assets/colab-badge.svg\" alt=\"Open In Colab\"/></a>"
      ]
    },
    {
      "cell_type": "markdown",
      "source": [
        "# New Section"
      ],
      "metadata": {
        "id": "I_CosOzbOx6I"
      }
    },
    {
      "cell_type": "markdown",
      "source": [
        "Data science and AI / Mohirdev"
      ],
      "metadata": {
        "id": "Xr1nMvzUO_dh"
      }
    },
    {
      "cell_type": "markdown",
      "source": [
        "2-practice"
      ],
      "metadata": {
        "id": "oZ2Be3CDPILH"
      }
    },
    {
      "cell_type": "markdown",
      "source": [
        "Masala(1): 2-o'lchamli massiv yaratish\n",
        "Masala sharti : Elementlari 0 dan 9 gacha (9 ning o'zi massiv elementiga kirmaydi), qadami esa 1 ga teng bo'lgan (3, 3) o'lchamli massiv yaratuvchi funksiyani davom ettiring."
      ],
      "metadata": {
        "id": "5KRCG4QsU3RR"
      }
    },
    {
      "cell_type": "code",
      "source": [
        "import numpy as np"
      ],
      "metadata": {
        "id": "Fra9LskHg9sF"
      },
      "execution_count": null,
      "outputs": []
    },
    {
      "cell_type": "code",
      "source": [
        "massiv = np.arange(0,9,1).reshape(3,3)\n",
        "massiv"
      ],
      "metadata": {
        "colab": {
          "base_uri": "https://localhost:8080/"
        },
        "id": "Hf3MiPakPKaJ",
        "outputId": "17df5f28-6857-4b2a-a8a4-3ad0bbed6684"
      },
      "execution_count": null,
      "outputs": [
        {
          "output_type": "execute_result",
          "data": {
            "text/plain": [
              "array([[0, 1, 2],\n",
              "       [3, 4, 5],\n",
              "       [6, 7, 8]])"
            ]
          },
          "metadata": {},
          "execution_count": 19
        }
      ]
    },
    {
      "cell_type": "code",
      "source": [
        "massiv2 = np.arange(1,9,1).reshape(2,2,2)\n",
        "massiv2"
      ],
      "metadata": {
        "colab": {
          "base_uri": "https://localhost:8080/"
        },
        "id": "sY_lgHUqg8OT",
        "outputId": "4e7d487c-d689-4c2e-afa1-fe696762222b"
      },
      "execution_count": null,
      "outputs": [
        {
          "output_type": "execute_result",
          "data": {
            "text/plain": [
              "array([[[1, 2],\n",
              "        [3, 4]],\n",
              "\n",
              "       [[5, 6],\n",
              "        [7, 8]]])"
            ]
          },
          "metadata": {},
          "execution_count": 6
        }
      ]
    },
    {
      "cell_type": "code",
      "source": [
        "massiv3 = np.arange(1,9,1).reshape(2,4,1)\n",
        "massiv3"
      ],
      "metadata": {
        "colab": {
          "base_uri": "https://localhost:8080/"
        },
        "id": "Yj_yT-N6iQj2",
        "outputId": "e0b1e91a-695d-4e29-ddad-eea2129278bb"
      },
      "execution_count": null,
      "outputs": [
        {
          "output_type": "execute_result",
          "data": {
            "text/plain": [
              "array([[[1],\n",
              "        [2],\n",
              "        [3],\n",
              "        [4]],\n",
              "\n",
              "       [[5],\n",
              "        [6],\n",
              "        [7],\n",
              "        [8]]])"
            ]
          },
          "metadata": {},
          "execution_count": 7
        }
      ]
    },
    {
      "cell_type": "code",
      "source": [
        "massiv.shape"
      ],
      "metadata": {
        "colab": {
          "base_uri": "https://localhost:8080/"
        },
        "id": "ewwbfdYwjqk2",
        "outputId": "9204305d-f36e-4dd2-a8eb-b52428fb55f4"
      },
      "execution_count": null,
      "outputs": [
        {
          "output_type": "execute_result",
          "data": {
            "text/plain": [
              "(3, 3)"
            ]
          },
          "metadata": {},
          "execution_count": 13
        }
      ]
    },
    {
      "cell_type": "markdown",
      "source": [
        "Masala(2): Indeks yordamida 2-o'lchamli massivlardan elementlarni kesib olish\n",
        "Masala : Yuqorida yaratilgan massivning elementlari 6 va 7 ga teng bo'lgan qismini kesib olish funksiyasini davom ettiring.\n"
      ],
      "metadata": {
        "id": "2zt2gavomvZ7"
      }
    },
    {
      "cell_type": "code",
      "source": [
        "arr = np.array([massiv[2,0],massiv[2,1]])\n",
        "arr"
      ],
      "metadata": {
        "colab": {
          "base_uri": "https://localhost:8080/"
        },
        "id": "A-VElNmcmx5Y",
        "outputId": "01529bb5-5793-47c6-ca01-a00e7154ae9a"
      },
      "execution_count": null,
      "outputs": [
        {
          "output_type": "execute_result",
          "data": {
            "text/plain": [
              "array([6, 7])"
            ]
          },
          "metadata": {},
          "execution_count": 21
        }
      ]
    },
    {
      "cell_type": "markdown",
      "source": [
        "Masala(3): Indeks yordamida 3-o'lchamli massivdan elementlarni kesib olish\n",
        "Masala : 3-o'lchamli massivni quyidagi listdan yarating, hamda 12, 13, 15, va 16 elementlarini kesib oluvchi funksiyani davom ettiring.\n",
        "  \n",
        "                [[[ 0,  1,  2],\n",
        "                [ 3,  4,  5],\n",
        "                [ 6,  7,  8]],\n",
        "\n",
        "               [[ 9, 10, 11],\n",
        "                [12, 13, 14],\n",
        "                [15, 16, 17]],\n",
        "\n",
        "               [[18, 19, 20],\n",
        "                [21, 22, 23],\n",
        "                [24, 25, 26]]]"
      ],
      "metadata": {
        "id": "3BZZDUIFor33"
      }
    },
    {
      "cell_type": "code",
      "source": [
        "arr3 = np.arange(0,27,1).reshape(3,3,3)\n",
        "arr3"
      ],
      "metadata": {
        "colab": {
          "base_uri": "https://localhost:8080/"
        },
        "id": "PlwePmduqczi",
        "outputId": "4e20bb0d-cc18-4f29-cfb0-4668cfabfdf0"
      },
      "execution_count": null,
      "outputs": [
        {
          "output_type": "execute_result",
          "data": {
            "text/plain": [
              "array([[[ 0,  1,  2],\n",
              "        [ 3,  4,  5],\n",
              "        [ 6,  7,  8]],\n",
              "\n",
              "       [[ 9, 10, 11],\n",
              "        [12, 13, 14],\n",
              "        [15, 16, 17]],\n",
              "\n",
              "       [[18, 19, 20],\n",
              "        [21, 22, 23],\n",
              "        [24, 25, 26]]])"
            ]
          },
          "metadata": {},
          "execution_count": 22
        }
      ]
    },
    {
      "cell_type": "code",
      "source": [
        "arr2 =arr3.reshape(9,3)\n",
        "arr2"
      ],
      "metadata": {
        "colab": {
          "base_uri": "https://localhost:8080/"
        },
        "id": "0jnp2c_arL-9",
        "outputId": "431bb828-22f2-4825-bb91-627353a16bdf"
      },
      "execution_count": null,
      "outputs": [
        {
          "output_type": "execute_result",
          "data": {
            "text/plain": [
              "array([[ 0,  1,  2],\n",
              "       [ 3,  4,  5],\n",
              "       [ 6,  7,  8],\n",
              "       [ 9, 10, 11],\n",
              "       [12, 13, 14],\n",
              "       [15, 16, 17],\n",
              "       [18, 19, 20],\n",
              "       [21, 22, 23],\n",
              "       [24, 25, 26]])"
            ]
          },
          "metadata": {},
          "execution_count": 31
        }
      ]
    },
    {
      "cell_type": "code",
      "source": [
        "slice_arr = arr2[4:6,0:2]\n",
        "slice_arr"
      ],
      "metadata": {
        "colab": {
          "base_uri": "https://localhost:8080/"
        },
        "id": "INS1MCdFtBUB",
        "outputId": "798151db-9b79-4681-a120-408d0994482c"
      },
      "execution_count": null,
      "outputs": [
        {
          "output_type": "execute_result",
          "data": {
            "text/plain": [
              "array([[12, 13],\n",
              "       [15, 16]])"
            ]
          },
          "metadata": {},
          "execution_count": 32
        }
      ]
    },
    {
      "cell_type": "markdown",
      "source": [
        "Masala(4): Boolean indeks yordamida 2-o'lchamli massivlardan elementlarni kesib olish\n",
        "Masala : Bizlarda,\n",
        "\n",
        "    ['Hasan', 'Husan', 'Javohir', 'Elyor', 'Hasan', 'Javohir', 'Elyor']\n",
        "listdagi kishilar va ularning ma'lumotlari\n",
        "\n",
        "  [[5, 6, 1, 1],\n",
        "   [9, 1, 1, 1],\n",
        "   [7, 7, 4, 2],\n",
        "   [1, 5, 1, 9],\n",
        "   [9, 9, 4, 5],\n",
        "   [7, 5, 9, 6],\n",
        "   [5, 3, 7, 4]]\n",
        "ko'rinishda keltirilgan. Mana shu ma'lumotlardan Javohir va Elyor ismlariga tegishli ma'lumotlarni Boolean indekslash yordamida kesib olish funksiyasini davom ettiring."
      ],
      "metadata": {
        "id": "Mj4QvqYgx7T2"
      }
    },
    {
      "cell_type": "code",
      "source": [
        "names = np.array(['Hasan', 'Husan', 'Javohir', 'Elyor', 'Hasan', 'Javohir', 'Elyor'])\n",
        "data = np.array([[5, 6, 1, 1], [9, 1, 1, 1], [7, 7, 4, 2], [1, 5, 1, 9], [9, 9, 4, 5], [7, 5, 9, 6], [5, 3, 7, 4]] )\n",
        "\n",
        "mask = (names=='Javohir') | (names=='Elyor')\n",
        "slice_name = data[mask];\n",
        "slice_name"
      ],
      "metadata": {
        "colab": {
          "base_uri": "https://localhost:8080/"
        },
        "id": "WNjXAkXKtV8P",
        "outputId": "b7be6267-c452-4434-d08a-22ddd24f9506"
      },
      "execution_count": null,
      "outputs": [
        {
          "output_type": "execute_result",
          "data": {
            "text/plain": [
              "array([[7, 7, 4, 2],\n",
              "       [1, 5, 1, 9],\n",
              "       [7, 5, 9, 6],\n",
              "       [5, 3, 7, 4]])"
            ]
          },
          "metadata": {},
          "execution_count": 39
        }
      ]
    },
    {
      "cell_type": "code",
      "source": [],
      "metadata": {
        "id": "cvMMcKCs0JEM"
      },
      "execution_count": null,
      "outputs": []
    }
  ]
}